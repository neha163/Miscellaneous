{
 "cells": [
  {
   "cell_type": "markdown",
   "metadata": {},
   "source": [
    "# Homework00"
   ]
  },
  {
   "cell_type": "markdown",
   "metadata": {},
   "source": [
    "*Question 1: For DNA complementary or reverse complementary*"
   ]
  },
  {
   "cell_type": "code",
   "execution_count": 20,
   "metadata": {},
   "outputs": [
    {
     "name": "stdout",
     "output_type": "stream",
     "text": [
      "Enter DNA sequence= GATCGATCGATCGGGATG\n",
      "Enter the direction in which you wish to have complementary= reverse\n",
      "CATCCCGATCGATCGATC\n"
     ]
    }
   ],
   "source": [
    "def complement(dna, direct= \"same\"): #default argument for direction set to same\n",
    "    dna=dna.upper(); #DNA converted into similar case\n",
    "    comp= ''; \n",
    "    for i in dna: #checking each base in the input string\n",
    "        if i == 'A':\n",
    "            comp= comp + 'T'; #if the condition matches, complement base pair adds to comp variable\n",
    "        elif i == 'T':\n",
    "            comp = comp + 'A';\n",
    "        elif i == 'G':\n",
    "            comp = comp + 'C';\n",
    "        elif i == \"C\":\n",
    "            comp = comp + 'G';   \n",
    "    if direct == \"same\": \n",
    "        print(comp);\n",
    "    elif direct == \"reverse\":\n",
    "        print(comp[::-1]) #incase of reverse, string prints backwards\n",
    "            \n",
    "abc=input(\"Enter DNA sequence= \"); \n",
    "direction=input(\"Enter the direction in which you wish to have complementary= \"); \n",
    "\n",
    "complement(abc,direction)        "
   ]
  },
  {
   "cell_type": "markdown",
   "metadata": {},
   "source": [
    "*Question 2: Check for prime number*"
   ]
  },
  {
   "cell_type": "code",
   "execution_count": 21,
   "metadata": {},
   "outputs": [
    {
     "name": "stdout",
     "output_type": "stream",
     "text": [
      "Enter a number to check whether prime or not 113\n",
      "number is prime\n"
     ]
    }
   ],
   "source": [
    "def prime(num):  \n",
    "\t#starting range from 2 as 1 is a factor for all numbers. Run till num/2 as this will reduce the run time of the program by half.\n",
    "    for i in range(2,int(num//2)):   \n",
    "        if num % i == 0:      # any number between the range divides proves that number has more than 2 multiples\n",
    "            print(\"Number is  not prime\");\n",
    "            break;\n",
    "    if i == int(num//2)-1:     #if i goes till second last element without encountering any multiple, that proves it has no multiples other than 1 and number itself.\n",
    "        print(\"number is prime\");\n",
    "\n",
    "number = int(input(\"Enter a number to check whether prime or not \"));\n",
    "prime_num(number);"
   ]
  },
  {
   "cell_type": "markdown",
   "metadata": {},
   "source": [
    "*Question 3: Heron's Method for square root*"
   ]
  },
  {
   "cell_type": "code",
   "execution_count": 22,
   "metadata": {},
   "outputs": [
    {
     "name": "stdout",
     "output_type": "stream",
     "text": [
      "Enter a number to get it's square root : 456\n",
      "21.354156505600777\n"
     ]
    }
   ],
   "source": [
    "def sqrt(y,tol = 1e-6): #by default tolerance parameter set to 1e-6\n",
    "    x_old = y / 2; # i came up by dividing the number by 2 as the initial value of x\n",
    "    x_new = y;\n",
    "    while x_new * x_new - y > tol: #computing relative deviation\n",
    "        x_new = (x_old + (y / x_old)) / 2; #calculating the sqrt by increasing the accuracy at each iteration till the tolerance value. \n",
    "        x_old = x_new;\n",
    "    print(x_new); #printing final result\n",
    "\n",
    "num = int(input(\"Enter a number to get it's square root : \"));\n",
    "sqrt(num, 1e-4); # passing number and tolerance "
   ]
  }
 ],
 "metadata": {
  "kernelspec": {
   "display_name": "Python 3",
   "language": "python",
   "name": "python3"
  },
  "language_info": {
   "codemirror_mode": {
    "name": "ipython",
    "version": 3
   },
   "file_extension": ".py",
   "mimetype": "text/x-python",
   "name": "python",
   "nbconvert_exporter": "python",
   "pygments_lexer": "ipython3",
   "version": "3.7.0"
  }
 },
 "nbformat": 4,
 "nbformat_minor": 2
}

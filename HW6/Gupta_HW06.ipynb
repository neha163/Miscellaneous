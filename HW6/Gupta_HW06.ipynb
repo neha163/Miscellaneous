{
 "cells": [
  {
   "cell_type": "code",
   "execution_count": 2,
   "metadata": {},
   "outputs": [],
   "source": [
    "import numpy as np\n",
    "import matplotlib.pyplot as plt\n",
    "np.set_printoptions(precision=3)"
   ]
  },
  {
   "cell_type": "markdown",
   "metadata": {},
   "source": [
    "## Problem 1\n"
   ]
  },
  {
   "cell_type": "code",
   "execution_count": 3,
   "metadata": {},
   "outputs": [
    {
     "name": "stdout",
     "output_type": "stream",
     "text": [
      "0.4\n"
     ]
    }
   ],
   "source": [
    "\n",
    "controlled = np.zeros(25) #50% untreated\n",
    "treatmented = np.zeros(25) #90% recovered\n",
    "for i in range(12):\n",
    "    controlled[i] = 1 # 1 for recovered\n",
    "\n",
    "for i in range(22):\n",
    "    treatmented[i] = 1\n",
    "\n",
    "\n",
    "\n",
    "# compute the difference\n",
    "observed_statistic = treatmented.mean() - controlled.mean()\n",
    "print(observed_statistic)"
   ]
  },
  {
   "cell_type": "code",
   "execution_count": 4,
   "metadata": {},
   "outputs": [
    {
     "name": "stdout",
     "output_type": "stream",
     "text": [
      "p value is  0.002\n"
     ]
    }
   ],
   "source": [
    "# need to sample two random subdivisions multiple times\n",
    "class random_groupings:\n",
    "    \n",
    "    def __init__(self, group_one, group_two):\n",
    "        self.n_one = group_one.size # number of samples in group one\n",
    "        self.n_two = group_two.size # same for group two\n",
    "        self.n_all = self.n_one + self.n_two # size of the data\n",
    "        self.all = np.concatenate((group_one, group_two), axis=0) # merged data\n",
    "        \n",
    "    def generate_random_split(self):\n",
    "        temp = self.all.copy() # copy to avoid corruption by user\n",
    "        np.random.shuffle(temp) # now the columns are shuffled\n",
    "        go = temp[:self.n_one] # group one\n",
    "        gt = temp[self.n_one:] # group two\n",
    "        return (go, gt)\n",
    "    \n",
    "    \n",
    "# obtain distribution under the null hypothesis of no difference\n",
    "NR = 10**4\n",
    "rg = random_groupings(controlled, treatmented) # feed data to object\n",
    "random_statistics = np.zeros(NR)\n",
    "for i in range(NR):\n",
    "    goo, gtt = rg.generate_random_split()\n",
    "    random_statistics[i] = goo.mean() - gtt.mean()\n",
    "    \n",
    "    \n",
    "# is this significant? \n",
    "# compute the p-value\n",
    "p_value = np.sum(random_statistics >= observed_statistic) / random_statistics.size\n",
    "print('p value is ', p_value)"
   ]
  },
  {
   "cell_type": "code",
   "execution_count": 6,
   "metadata": {},
   "outputs": [
    {
     "data": {
      "image/png": "[encoded data removed]",
      "text/plain": [
       "<Figure size 432x288 with 1 Axes>"
      ]
     },
     "metadata": {
      "needs_background": "light"
     },
     "output_type": "display_data"
    }
   ],
   "source": [
    "# plot the distribution\n",
    "plt.hist(random_statistics, histtype='step', bins=25, density=True);\n",
    "plt.xlabel('statistic')\n",
    "plt.ylabel('frequency')\n",
    "plt.axvline(x=observed_statistic, color='green');"
   ]
  },
  {
   "cell_type": "markdown",
   "metadata": {},
   "source": [
    "## Problem 2"
   ]
  },
  {
   "cell_type": "code",
   "execution_count": null,
   "metadata": {},
   "outputs": [],
   "source": [
    "#sample size\n",
    "N = 150; \n",
    "#number of genes in each sample\n",
    "n = 1000\n",
    "class experiment:\n",
    "    def __init__(self, N):\n",
    "        self.N = N\n",
    "        \n",
    "    def control_group(self):\n",
    "        self.control = np.random.lognormal(mean = 0, sigma = 1, size = 1000)\n",
    "        return self.control\n",
    "    \n",
    "    def disease_group(self):\n",
    "        \n",
    "        self.genes10 = np.random.lognormal(mean = 1, size = 10)\n",
    "        self.genes100 = np.random.lognormal(mean = 0.1, size = 100)\n",
    "        self.restgenes = np.random.lognormal(mean = 0, size =890)\n",
    "        self.whole = np.concatenate((self.genes10, self.genes100, self.restgenes))\n",
    "        \n",
    "        return self.whole\n",
    "\n",
    "control = np.array(n * N)\n",
    "disease = np.array(n* N)\n",
    "observed_difference = np.array(N)\n",
    "nc = experiment(1)\n",
    "\n",
    "for i in range(N):\n",
    "    control = np.append(control, nc.control_group())\n",
    "    disease = np.append(disease, nc.disease_group())\n",
    "    \n",
    "for i in range(N):\n",
    "    observed_statistic = disease[i: ].mean() - control[i: ].mean()\n",
    "    observed_difference = np.append(observed_statistic, observed_difference)"
   ]
  },
  {
   "cell_type": "code",
   "execution_count": null,
   "metadata": {},
   "outputs": [],
   "source": [
    "# need to sample two random subdivisions multiple times\n",
    "class random_groupings:\n",
    "    \n",
    "    def __init__(self, group_one, group_two):\n",
    "        self.n_one = group_one.size # number of samples in group one\n",
    "        self.n_two = group_two.size # same for group two\n",
    "        self.n_all = self.n_one + self.n_two # size of the data\n",
    "        self.all = np.concatenate((group_one, group_two), axis=0) # merged data\n",
    "        \n",
    "    def generate_random_split(self):\n",
    "        temp = self.all.copy() # copy to avoid corruption by user\n",
    "        np.random.shuffle(temp) # now the columns are shuffled\n",
    "        go = temp[ :self.n_one] # group one\n",
    "        gt = temp[self.n_one: ] # group two\n",
    "        return (go, gt)"
   ]
  },
  {
   "cell_type": "code",
   "execution_count": null,
   "metadata": {},
   "outputs": [],
   "source": [
    "# obtain distribution under the null hypothesis of no difference\n",
    "NR = 10**4\n",
    "allp_values = sorted_p_values = significant_genes = []\n",
    "for i in range(N):\n",
    "    rg = random_groupings(control[i: ], disease[i: ]) # feed data to object\n",
    "    random_statistics = np.zeros(NR)\n",
    "    for i in range(NR):\n",
    "        go, gt = rg.generate_random_split()\n",
    "        random_statistics[i] = go.mean() - gt.mean()\n",
    "    \n",
    "    # compute the p-value\n",
    "    p_value = np.sum(random_statistics >= observed_statistic) / random_statistics.size\n",
    "    allp_values.append(p_value)   \n",
    "    \n",
    "    \n",
    "    \n",
    "sort_p_values = np.sort(allp_values)\n",
    "sort_index = np.argsort(allp_values)\n",
    "print('genes with p value these are significantly expressed with 0.05 cutoff')\n",
    "alpha = 0.05\n",
    "for i in range(N):\n",
    "    q_value = (sort_p_values[i]*N) / (sort_index[i]+1)\n",
    "    if q_value < alpha:\n",
    "        significant_genes.append(sort_p_values[i])\n",
    "\n",
    "print(significant_genes)\n",
    "print('\\nTotal number of significantly expressed genes are ', len(significant_genes))"
   ]
  },
  {
   "cell_type": "code",
   "execution_count": 1,
   "metadata": {},
   "outputs": [],
   "source": [
    "#Could not show output becuase of very long simulation time. "
   ]
  }
 ],
 "metadata": {
  "kernelspec": {
   "display_name": "Python 3",
   "language": "python",
   "name": "python3"
  },
  "language_info": {
   "codemirror_mode": {
    "name": "ipython",
    "version": 3
   },
   "file_extension": ".py",
   "mimetype": "text/x-python",
   "name": "python",
   "nbconvert_exporter": "python",
   "pygments_lexer": "ipython3",
   "version": "3.7.0"
  }
 },
 "nbformat": 4,
 "nbformat_minor": 4
}
